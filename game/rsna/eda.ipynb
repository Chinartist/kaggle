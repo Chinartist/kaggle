{
 "cells": [
  {
   "cell_type": "code",
   "execution_count": null,
   "metadata": {},
   "outputs": [],
   "source": [
    "import cv2\n",
    "import albumentations as A"
   ]
  },
  {
   "cell_type": "code",
   "execution_count": null,
   "metadata": {},
   "outputs": [],
   "source": [
    "img = cv2.imread('/home/wangjingqi/input/dataset/rsna/images/10008_68070693.png')\n",
    "img = cv2.cvtColor(img, cv2.COLOR_BGR2RGB)\n",
    "class cfg:\n",
    "    img_size = (1024,640)\n",
    "transformed = A.HorizontalFlip(p=1)(image=img)[\"image\"]\n",
    "# img = cv2.resize(img, (cfg.img_size[1],cfg.img_size[0]), interpolation=cv2.INTER_LINEAR)\n",
    "# img.shape"
   ]
  },
  {
   "cell_type": "code",
   "execution_count": null,
   "metadata": {},
   "outputs": [],
   "source": [
    "#可视化原图和增强后的图像\n",
    "import matplotlib.pyplot as plt\n",
    "plt.figure(figsize=(10,10))\n",
    "plt.subplot(1,2,1)\n",
    "plt.imshow(img)\n",
    "plt.subplot(1,2,2)\n",
    "plt.imshow(transformed)"
   ]
  },
  {
   "cell_type": "code",
   "execution_count": null,
   "metadata": {},
   "outputs": [],
   "source": [
    "import numpy as np\n",
    "import pydicom\n",
    "import matplotlib.pyplot as plt\n",
    "import cv2"
   ]
  },
  {
   "cell_type": "code",
   "execution_count": null,
   "metadata": {},
   "outputs": [],
   "source": [
    "#设置特定GPU的环境变量\n",
    "import os\n",
    "os.environ[\"CUDA_VISIBLE_DEVICES\"] = \"1\""
   ]
  },
  {
   "cell_type": "code",
   "execution_count": null,
   "metadata": {},
   "outputs": [],
   "source": [
    "import torch\n",
    "import torch.nn.functional as F\n",
    "import nvidia.dali.fn as fn\n",
    "import nvidia.dali.types as types\n",
    "from nvidia.dali import pipeline_def\n",
    "from nvidia.dali.types import DALIDataType\n",
    "from pydicom.filebase import DicomBytesIO\n",
    "from nvidia.dali.plugin.pytorch import feed_ndarray, to_torch_type\n",
    "\n",
    "\n",
    "def convert_dicom_to_j2k(file, save_folder=\"\"):\n",
    "    patient = file.split('/')[-2]\n",
    "    image = file.split('/')[-1][:-4]\n",
    "    dcmfile = pydicom.dcmread(file)\n",
    "\n",
    "    if dcmfile.file_meta.TransferSyntaxUID == '1.2.840.10008.1.2.4.90':\n",
    "        with open(file, 'rb') as fp:\n",
    "            raw = DicomBytesIO(fp.read())\n",
    "            ds = pydicom.dcmread(raw)\n",
    "        offset = ds.PixelData.find(b\"\\x00\\x00\\x00\\x0C\")  #<---- the jpeg2000 header info we're looking for\n",
    "        hackedbitstream = bytearray()\n",
    "        hackedbitstream.extend(ds.PixelData[offset:])\n",
    "        with open(save_folder + f\"{patient}_{image}.jp2\", \"wb\") as binary_file:\n",
    "            binary_file.write(hackedbitstream)\n",
    "\n",
    "            \n",
    "@pipeline_def\n",
    "def j2k_decode_pipeline(j2kfiles):\n",
    "    jpegs, _ = fn.readers.file(files=j2kfiles)\n",
    "    images = fn.experimental.decoders.image(jpegs, device='mixed', output_type=types.ANY_DATA, dtype=DALIDataType.UINT16)\n",
    "    return images"
   ]
  },
  {
   "cell_type": "code",
   "execution_count": null,
   "metadata": {},
   "outputs": [],
   "source": [
    "def cut_off(img):\n",
    "    X = img\n",
    "    # Some images have narrow exterior \"frames\" that complicate selection of the main data. Cutting off the frame\n",
    "    X = X[5:-5, 5:-5]\n",
    "\n",
    "    # regions of non-empty pixels\n",
    "    output= cv2.connectedComponentsWithStats((X > 0.05).astype(np.uint8)[:, :], 8, cv2.CV_32S)\n",
    "\n",
    "    # stats.shape == (N, 5), where N is the number of regions, 5 dimensions correspond to:\n",
    "    # left, top, width, height, area_size\n",
    "    stats = output[2]\n",
    "    # finding max area which always corresponds to the breast data. \n",
    "    idx = stats[1:, 4].argmax() + 1\n",
    "    x1, y1, w, h = stats[idx][:4]\n",
    "    x2 = x1 + w\n",
    "    y2 = y1 + h\n",
    "    # cutting out the breast data\n",
    "    X_fit = X[y1: y2, x1: x2]\n",
    "\n",
    "    return X_fit\n",
    "import dicomsdl\n",
    "\n",
    "def dicomsdl_to_numpy_image(dicom, index=0):\n",
    "    info = dicom.getPixelDataInfo()\n",
    "    dtype = info['dtype']\n",
    "    if info['SamplesPerPixel'] != 1:\n",
    "        raise RuntimeError('SamplesPerPixel != 1')\n",
    "    else:\n",
    "        shape = [info['Rows'], info['Cols']]\n",
    "    outarr = np.empty(shape, dtype=dtype)\n",
    "    dicom.copyFrameData(index, outarr)\n",
    "    return outarr\n",
    "\n",
    "def load_img_dicomsdl(f):\n",
    "    return dicomsdl_to_numpy_image(dicomsdl.open(f))\n",
    "\n",
    "def process(f, img_size=None, save_folder=\"\"):\n",
    "    patient = f.split('/')[-2]\n",
    "    image = f.split('/')[-1][:-4]\n",
    "    dicom = pydicom.dcmread(f)\n",
    "    if dicom.file_meta.TransferSyntaxUID == '1.2.840.10008.1.2.4.90':  # ALREADY PROCESSED\n",
    "        return\n",
    "\n",
    "    try:\n",
    "        img = load_img_dicomsdl(f)\n",
    "    except:\n",
    "        img = dicom.pixel_array\n",
    "\n",
    "    img = (img - img.min()) / (img.max() - img.min())\n",
    "\n",
    "    if dicom.PhotometricInterpretation == \"MONOCHROME1\":\n",
    "        img = 1 - img\n",
    "\n",
    "    img = cut_off(img)\n",
    "    if img_size is not None:\n",
    "        img = cv2.resize(img, (img_size[1],img_size[0]), interpolation=cv2.INTER_LINEAR)\n",
    "    # cv2.imwrite(save_folder + f\"{patient}_{image}.png\", (img * 255).astype(np.uint8))"
   ]
  },
  {
   "cell_type": "code",
   "execution_count": null,
   "metadata": {},
   "outputs": [],
   "source": [
    "from joblib import Parallel, delayed\n",
    "from tqdm import tqdm\n",
    "import os\n",
    "import shutil\n",
    "import glob\n",
    "SAVE_FOLDER = '/home/wangjingqi/input/dataset/rsna/images/'\n",
    "J2K_FOLDER = \"/home/wangjingqi/input/dataset/rsna/j2k/\"\n",
    "if os.path.exists(SAVE_FOLDER):\n",
    "    shutil.rmtree(SAVE_FOLDER)\n",
    "if os.path.exists(J2K_FOLDER):\n",
    "    shutil.rmtree(J2K_FOLDER)\n",
    "\n",
    "!mkdir {SAVE_FOLDER}\n",
    "!mkdir {J2K_FOLDER}\n",
    "\n",
    "IMG_PATH = \"/home/wangjingqi/input/dataset/rsna/train_images/\"\n",
    "train_images = glob.glob(f\"{IMG_PATH}*/*.dcm\")"
   ]
  },
  {
   "cell_type": "code",
   "execution_count": null,
   "metadata": {},
   "outputs": [],
   "source": [
    "if len(train_images) > 100:\n",
    "    N_CHUNKS = 20\n",
    "else:\n",
    "    N_CHUNKS = 1\n",
    "\n",
    "CHUNKS = [(len(train_images) / N_CHUNKS * k, len(train_images) / N_CHUNKS * (k + 1)) for k in range(N_CHUNKS)]\n",
    "CHUNKS = np.array(CHUNKS).astype(int)\n",
    "print(CHUNKS)"
   ]
  },
  {
   "cell_type": "code",
   "execution_count": null,
   "metadata": {},
   "outputs": [],
   "source": [
    "len(train_images),train_images[:5]"
   ]
  },
  {
   "cell_type": "code",
   "execution_count": null,
   "metadata": {},
   "outputs": [],
   "source": [
    "for chunk in tqdm(CHUNKS):\n",
    "    os.makedirs(J2K_FOLDER, exist_ok=True)\n",
    "\n",
    "    _ = Parallel(n_jobs=2)(\n",
    "        delayed(convert_dicom_to_j2k)(img, save_folder=J2K_FOLDER)\n",
    "        for img in train_images[chunk[0]: chunk[1]]\n",
    "    )\n",
    "    \n",
    "    j2kfiles = glob.glob(J2K_FOLDER + \"*.jp2\")\n",
    "\n",
    "    if not len(j2kfiles):\n",
    "        continue\n",
    "\n",
    "    pipe = j2k_decode_pipeline(j2kfiles, batch_size=1, num_threads=2, device_id=0, debug=True)\n",
    "    pipe.build()\n",
    "\n",
    "    for i, f in enumerate(j2kfiles):\n",
    "        patient, image = f.split('/')[-1][:-4].split('_')\n",
    "        dicom = pydicom.dcmread(IMG_PATH + f\"{patient}/{image}.dcm\")\n",
    "\n",
    "        out = pipe.run()\n",
    "\n",
    "        # Dali -> Torch\n",
    "        img = out[0][0]\n",
    "        img_torch = torch.empty(img.shape(), dtype=torch.int16, device=\"cuda\")\n",
    "        feed_ndarray(img, img_torch, cuda_stream=torch.cuda.current_stream(device=0))\n",
    "        img = img_torch.float()\n",
    "\n",
    "        # Scale, resize, invert on GPU !\n",
    "        min_, max_ = img.min(), img.max()\n",
    "        img = (img - min_) / (max_ - min_)\n",
    "\n",
    "        if dicom.PhotometricInterpretation == \"MONOCHROME1\":\n",
    "            img = 1 - img\n",
    "\n",
    "        # Back to CPU + SAVE\n",
    "        img = img.cpu().numpy()\n",
    "        img = cut_off(img)\n",
    "        # cv2.imwrite(SAVE_FOLDER + f\"{patient}_{image}.png\", (img * 255).astype(np.uint8))\n",
    "    shutil.rmtree(J2K_FOLDER)"
   ]
  },
  {
   "cell_type": "code",
   "execution_count": null,
   "metadata": {},
   "outputs": [],
   "source": [
    "\n",
    "\n",
    "_ = Parallel(n_jobs=2)(\n",
    "    delayed(process)(img, img_size=None, save_folder=SAVE_FOLDER)\n",
    "    for img in tqdm(train_images)\n",
    ")"
   ]
  },
  {
   "cell_type": "code",
   "execution_count": 1,
   "metadata": {},
   "outputs": [
    {
     "data": {
      "text/plain": [
       "(2766, 991, 3)"
      ]
     },
     "execution_count": 1,
     "metadata": {},
     "output_type": "execute_result"
    }
   ],
   "source": [
    "import cv2\n",
    "cv2.imread(\"/home/wangjingqi/input/dataset/rsna/images/5_640805896.png\").shape"
   ]
  },
  {
   "cell_type": "code",
   "execution_count": 1,
   "metadata": {},
   "outputs": [],
   "source": [
    "import pandas as pd\n",
    "train = pd.read_csv(\"/home/wangjingqi/input/dataset/rsna/train.csv\")"
   ]
  },
  {
   "cell_type": "code",
   "execution_count": 3,
   "metadata": {},
   "outputs": [
    {
     "data": {
      "text/plain": [
       "(11913,)"
      ]
     },
     "execution_count": 3,
     "metadata": {},
     "output_type": "execute_result"
    }
   ],
   "source": [
    "train.patient_id.unique().shape"
   ]
  },
  {
   "cell_type": "code",
   "execution_count": null,
   "metadata": {},
   "outputs": [],
   "source": []
  }
 ],
 "metadata": {
  "kernelspec": {
   "display_name": "test",
   "language": "python",
   "name": "python3"
  },
  "language_info": {
   "codemirror_mode": {
    "name": "ipython",
    "version": 3
   },
   "file_extension": ".py",
   "mimetype": "text/x-python",
   "name": "python",
   "nbconvert_exporter": "python",
   "pygments_lexer": "ipython3",
   "version": "3.8.15"
  },
  "orig_nbformat": 4,
  "vscode": {
   "interpreter": {
    "hash": "218e4d24f7429f7e6f809b61532be61684b3ff698b67f6189ef0432b16641c4f"
   }
  }
 },
 "nbformat": 4,
 "nbformat_minor": 2
}
