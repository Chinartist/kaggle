{
 "cells": [
  {
   "cell_type": "code",
   "execution_count": 9,
   "id": "d730be4b",
   "metadata": {
    "execution": {
     "iopub.execute_input": "2022-11-19T17:08:13.231987Z",
     "iopub.status.busy": "2022-11-19T17:08:13.230837Z",
     "iopub.status.idle": "2022-11-19T17:08:17.736511Z",
     "shell.execute_reply": "2022-11-19T17:08:17.735633Z"
    },
    "papermill": {
     "duration": 4.514922,
     "end_time": "2022-11-19T17:08:17.738978",
     "exception": false,
     "start_time": "2022-11-19T17:08:13.224056",
     "status": "completed"
    },
    "tags": []
   },
   "outputs": [],
   "source": [
    "import sys\n",
    "import pandas as pd\n",
    "import torch\n",
    "import torch.nn.functional as F\n",
    "from tqdm import tqdm\n",
    "import numpy as np\n",
    "import warnings\n",
    "\n",
    "warnings.filterwarnings(\"ignore\")"
   ]
  },
  {
   "cell_type": "code",
   "execution_count": 10,
   "id": "36bef89f",
   "metadata": {
    "papermill": {
     "duration": 0.004093,
     "end_time": "2022-11-19T17:08:17.748385",
     "exception": false,
     "start_time": "2022-11-19T17:08:17.744292",
     "status": "completed"
    },
    "tags": []
   },
   "outputs": [],
   "source": [
    "import gc\n",
    "import os\n",
    "import joblib\n",
    "import numpy as np\n",
    "import pandas as pd\n",
    "from lightgbm import LGBMClassifier\n",
    "from sklearn.model_selection import KFold\n",
    "from sklearn.metrics import precision_recall_fscore_support, accuracy_score\n",
    "from sklearn.model_selection import StratifiedKFold\n",
    "from sklearn.preprocessing import QuantileTransformer\n",
    "from xgboost import XGBClassifier\n",
    "from catboost import CatBoostClassifier,CatBoostRegressor, Pool, EShapCalcType, EFeaturesSelectionAlgorithm\n",
    "from sklearn.ensemble import RandomForestRegressor,RandomForestClassifier\n"
   ]
  },
  {
   "cell_type": "code",
   "execution_count": 11,
   "id": "703328cf",
   "metadata": {
    "execution": {
     "iopub.execute_input": "2022-11-19T17:08:17.759114Z",
     "iopub.status.busy": "2022-11-19T17:08:17.757668Z",
     "iopub.status.idle": "2022-11-19T17:08:17.764245Z",
     "shell.execute_reply": "2022-11-19T17:08:17.763429Z"
    },
    "papermill": {
     "duration": 0.013723,
     "end_time": "2022-11-19T17:08:17.766231",
     "exception": false,
     "start_time": "2022-11-19T17:08:17.752508",
     "status": "completed"
    },
    "tags": []
   },
   "outputs": [],
   "source": [
    "nfolds= 25\n",
    "kfold = StratifiedKFold(n_splits=nfolds, random_state=42, shuffle=True)\n",
    "train_df = pd.read_csv(\"/home/wangjingqi/input/dataset/g2net/train_labels.csv\")\n",
    "use_generated_data = True\n",
    "if use_generated_data:\n",
    "    generated_data = pd.read_csv(\"/home/wangjingqi/input/dataset/g2net/generted_train/generted_train_labels.csv\")\n",
    "    train_df = pd.concat([train_df,generated_data],axis=0).reset_index(drop=True)\n",
    "test_df = pd.read_csv(\"/home/wangjingqi/input/dataset/g2net/sample_submission.csv\")\n",
    "train_df = train_df[train_df.target != -1].reset_index(drop=True)\n",
    "for nfold, (train_idx, val_idx) in enumerate(kfold.split(train_df.id.values, train_df.target.values)):\n",
    "    train_df.loc[val_idx, 'fold'] = int(nfold)\n"
   ]
  },
  {
   "cell_type": "code",
   "execution_count": 12,
   "id": "35c404c5",
   "metadata": {},
   "outputs": [
    {
     "name": "stdout",
     "output_type": "stream",
     "text": [
      " train_df.shape =  (6600, 3)\n"
     ]
    }
   ],
   "source": [
    "print(\" train_df.shape = \", train_df.shape)"
   ]
  },
  {
   "cell_type": "markdown",
   "id": "11c86220",
   "metadata": {
    "papermill": {
     "duration": 0.004091,
     "end_time": "2022-11-19T17:08:18.199015",
     "exception": false,
     "start_time": "2022-11-19T17:08:18.194924",
     "status": "completed"
    },
    "tags": []
   },
   "source": [
    "**Model**"
   ]
  },
  {
   "cell_type": "code",
   "execution_count": 13,
   "id": "5cc86f94",
   "metadata": {
    "execution": {
     "iopub.execute_input": "2022-11-19T17:08:18.208697Z",
     "iopub.status.busy": "2022-11-19T17:08:18.208403Z",
     "iopub.status.idle": "2022-11-19T17:08:24.153301Z",
     "shell.execute_reply": "2022-11-19T17:08:24.152282Z"
    },
    "papermill": {
     "duration": 5.952452,
     "end_time": "2022-11-19T17:08:24.155695",
     "exception": false,
     "start_time": "2022-11-19T17:08:18.203243",
     "status": "completed"
    },
    "tags": []
   },
   "outputs": [],
   "source": [
    "from torch import nn\n",
    "import timm\n",
    "from torch.utils.data import DataLoader, Dataset\n",
    "class Model(nn.Module):\n",
    "    def __init__(self, model_name):\n",
    "        super().__init__()\n",
    "        encoder = timm.create_model(model_name, pretrained=True, in_chans=2,drop_rate=0., drop_path_rate=0.)\n",
    "        clsf = encoder.default_cfg['classifier']\n",
    "        encoder._modules[clsf] = nn.Identity()\n",
    "        self.encoder = encoder\n",
    "    def forward(self, x):\n",
    "        x = self.encoder(x)\n",
    "        return x\n",
    "class G2NetDataset(Dataset):\n",
    "    def __init__(self, dir,df):\n",
    "        self.dir = dir\n",
    "        self.ids =  df.id.values\n",
    "        self.labels = df.target.values\n",
    "    def __len__(self):\n",
    "        return len(self.ids)\n",
    "    @classmethod\n",
    "    def process(cls, data: np.ndarray) -> np.ndarray:\n",
    "        data = data* 1e22\n",
    "        data = data.imag**2 + data.real**2\n",
    "        data = data/data.mean()\n",
    "        x = np.zeros((360, 4096))\n",
    "        x[:, :data.shape[-1]] = data[:,:4096]\n",
    "        return x\n",
    "    \n",
    "    def __getitem__(self, idx):\n",
    "        #load data\n",
    "        id = self.ids[idx]\n",
    "        if os.path.exists(os.path.join(self.dir[0],id+\".npy\")):\n",
    "            x = np.load(os.path.join(self.dir[0],id+\".npy\"),allow_pickle=True).item()\n",
    "        else:\n",
    "            x = np.load(os.path.join(self.dir[1],id+\".npy\"),allow_pickle=True).item()\n",
    "        #process data\n",
    "        h1 = self.process(x[\"H1\"])\n",
    "        l1 = self.process(x[\"L1\"])\n",
    "        x = np.concatenate((np.expand_dims(h1,axis=0),np.expand_dims(l1,axis=0)),axis=0)\n",
    "        #data augmentation\n",
    "        x = np.transpose(x,(1,2,0))\n",
    "        x = np.mean(x.reshape(360,128,32,2), axis=2)\n",
    "        x = np.transpose(x,(2,0,1))\n",
    "        x = torch.from_numpy(x)\n",
    "        x = x.float()\n",
    "        return x\n"
   ]
  },
  {
   "cell_type": "code",
   "execution_count": 14,
   "id": "9ebc3908",
   "metadata": {
    "execution": {
     "iopub.execute_input": "2022-11-19T17:08:24.167612Z",
     "iopub.status.busy": "2022-11-19T17:08:24.165903Z",
     "iopub.status.idle": "2022-11-19T17:08:24.176872Z",
     "shell.execute_reply": "2022-11-19T17:08:24.176064Z"
    },
    "papermill": {
     "duration": 0.018545,
     "end_time": "2022-11-19T17:08:24.178836",
     "exception": false,
     "start_time": "2022-11-19T17:08:24.160291",
     "status": "completed"
    },
    "tags": []
   },
   "outputs": [],
   "source": [
    "\n",
    "import os\n",
    "import torch\n",
    "from torch.utils.data import DataLoader\n",
    "def get_embeddings(model_name='',dir=None,df=None,verbose=True):\n",
    "\n",
    "    model = Model(model_name)\n",
    "    model.load_state_dict(torch.load(f'/home/wangjingqi/input/ck/g2net/tf_efficientnet_b7_ns_2000/tf_efficientnet_b7_ns_2000_0.pth',map_location='cpu'),strict=False)\n",
    "    dataset = G2NetDataset(dir,df)\n",
    "    dataloader = DataLoader(dataset,batch_size =32,num_workers=8, shuffle = False, pin_memory=True,drop_last=False)\n",
    "    model.cuda()\n",
    "    model.eval()\n",
    "    model.float()\n",
    "\n",
    "    all_text_feats = []\n",
    "    for batch in tqdm(dataloader,total=len(dataloader)):\n",
    "        batch = batch.cuda()\n",
    "        with torch.no_grad():\n",
    "            model_output = model(batch).detach().cpu()\n",
    "        # Normalize the embeddings\n",
    "        sentence_embeddings = F.normalize(model_output, p=2, dim=1)\n",
    "        sentence_embeddings =  sentence_embeddings\n",
    "        all_text_feats.append(sentence_embeddings)\n",
    "    all_text_feats = torch.cat(all_text_feats,dim=0)\n",
    "    if verbose:\n",
    "        print(' embeddings shape',all_text_feats.shape)\n",
    "        \n",
    "    return all_text_feats.numpy()"
   ]
  },
  {
   "cell_type": "code",
   "execution_count": 15,
   "id": "71d04cb6",
   "metadata": {},
   "outputs": [],
   "source": [
    "from tqdm import tqdm"
   ]
  },
  {
   "cell_type": "code",
   "execution_count": 16,
   "id": "0983025b",
   "metadata": {
    "execution": {
     "iopub.execute_input": "2022-11-19T17:08:24.188680Z",
     "iopub.status.busy": "2022-11-19T17:08:24.188388Z",
     "iopub.status.idle": "2022-11-19T17:10:37.698268Z",
     "shell.execute_reply": "2022-11-19T17:10:37.696308Z"
    },
    "papermill": {
     "duration": 133.521143,
     "end_time": "2022-11-19T17:10:37.704240",
     "exception": false,
     "start_time": "2022-11-19T17:08:24.183097",
     "status": "completed"
    },
    "tags": []
   },
   "outputs": [
    {
     "name": "stderr",
     "output_type": "stream",
     "text": [
      "100%|██████████| 207/207 [01:29<00:00,  2.32it/s]\n"
     ]
    },
    {
     "name": "stdout",
     "output_type": "stream",
     "text": [
      " embeddings shape torch.Size([6600, 2560])\n",
      "(6600, 2560)\n"
     ]
    },
    {
     "name": "stderr",
     "output_type": "stream",
     "text": [
      "100%|██████████| 250/250 [00:49<00:00,  5.06it/s]\n"
     ]
    },
    {
     "name": "stdout",
     "output_type": "stream",
     "text": [
      " embeddings shape torch.Size([7975, 2560])\n",
      "(7975, 2560)\n"
     ]
    }
   ],
   "source": [
    "\n",
    "models= [\"tf_efficientnet_b7_ns\",]\n",
    "all_train_feats = []\n",
    "for m in models:\n",
    "    text_feats = get_embeddings(model_name=m,dir=[\"/home/wangjingqi/input/dataset/g2net/train\",\"/home/wangjingqi/input/dataset/g2net/generted_train\"],df=train_df,)\n",
    "    all_train_feats.append(text_feats)\n",
    "all_train_feats = np.concatenate(all_train_feats,axis=1)\n",
    "print(all_train_feats.shape)\n",
    "\n",
    "all_test_feats = []\n",
    "for m in models:\n",
    "    text_feats = get_embeddings(model_name=m,dir=[\"/home/wangjingqi/input/dataset/g2net/test\"],df=test_df,)\n",
    "    all_test_feats.append(text_feats)\n",
    "all_test_feats = np.concatenate(all_test_feats,axis=1)\n",
    "print(all_test_feats.shape)"
   ]
  },
  {
   "cell_type": "code",
   "execution_count": 17,
   "id": "81947f24",
   "metadata": {
    "execution": {
     "iopub.execute_input": "2022-11-19T17:10:37.780337Z",
     "iopub.status.busy": "2022-11-19T17:10:37.779934Z",
     "iopub.status.idle": "2022-11-19T17:10:37.784757Z",
     "shell.execute_reply": "2022-11-19T17:10:37.783610Z"
    },
    "papermill": {
     "duration": 0.024487,
     "end_time": "2022-11-19T17:10:37.792505",
     "exception": false,
     "start_time": "2022-11-19T17:10:37.768018",
     "status": "completed"
    },
    "tags": []
   },
   "outputs": [],
   "source": [
    "import os"
   ]
  },
  {
   "cell_type": "code",
   "execution_count": 18,
   "id": "04d05b99",
   "metadata": {
    "execution": {
     "iopub.execute_input": "2022-11-19T17:10:37.814227Z",
     "iopub.status.busy": "2022-11-19T17:10:37.813728Z",
     "iopub.status.idle": "2022-11-19T17:11:16.675573Z",
     "shell.execute_reply": "2022-11-19T17:11:16.674642Z"
    },
    "papermill": {
     "duration": 38.875111,
     "end_time": "2022-11-19T17:11:16.677683",
     "exception": false,
     "start_time": "2022-11-19T17:10:37.802572",
     "status": "completed"
    },
    "tags": []
   },
   "outputs": [
    {
     "name": "stdout",
     "output_type": "stream",
     "text": [
      "#########################\n",
      "### Fold 1\n",
      "#########################\n",
      "Fold 1 roc = 0.9446231617647058\n",
      "#########################\n",
      "### Fold 2\n",
      "#########################\n",
      "Fold 2 roc = 0.9558823529411764\n",
      "#########################\n",
      "### Fold 3\n",
      "#########################\n",
      "Fold 3 roc = 0.9558823529411764\n",
      "#########################\n",
      "### Fold 4\n",
      "#########################\n",
      "Fold 4 roc = 0.9705882352941176\n",
      "#########################\n",
      "### Fold 5\n",
      "#########################\n",
      "Fold 5 roc = 0.9889705882352942\n",
      "#########################\n",
      "### Fold 6\n",
      "#########################\n",
      "Fold 6 roc = 0.9811580882352942\n",
      "#########################\n",
      "### Fold 7\n",
      "#########################\n",
      "Fold 7 roc = 0.9632352941176471\n",
      "#########################\n",
      "### Fold 8\n",
      "#########################\n",
      "Fold 8 roc = 0.9705882352941176\n",
      "#########################\n",
      "### Fold 9\n",
      "#########################\n",
      "Fold 9 roc = 0.9632352941176471\n",
      "#########################\n",
      "### Fold 10\n",
      "#########################\n",
      "Fold 10 roc = 0.9740349264705883\n",
      "#########################\n",
      "### Fold 11\n",
      "#########################\n",
      "Fold 11 roc = 0.9816176470588236\n",
      "#########################\n",
      "### Fold 12\n",
      "#########################\n",
      "Fold 12 roc = 0.9742647058823529\n",
      "#########################\n",
      "### Fold 13\n",
      "#########################\n",
      "Fold 13 roc = 0.9703584558823529\n",
      "#########################\n",
      "### Fold 14\n",
      "#########################\n",
      "Fold 14 roc = 0.9556525735294117\n",
      "#########################\n",
      "### Fold 15\n",
      "#########################\n",
      "Fold 15 roc = 0.9779411764705883\n",
      "#########################\n",
      "### Fold 16\n",
      "#########################\n",
      "Fold 16 roc = 0.9705882352941176\n",
      "#########################\n",
      "### Fold 17\n",
      "#########################\n",
      "Fold 17 roc = 0.9556525735294117\n",
      "#########################\n",
      "### Fold 18\n",
      "#########################\n",
      "Fold 18 roc = 0.9593290441176471\n",
      "#########################\n",
      "### Fold 19\n",
      "#########################\n",
      "Fold 19 roc = 0.9558823529411764\n",
      "#########################\n",
      "### Fold 20\n",
      "#########################\n",
      "Fold 20 roc = 0.9740349264705883\n",
      "#########################\n",
      "### Fold 21\n",
      "#########################\n",
      "Fold 21 roc = 0.9926470588235294\n",
      "#########################\n",
      "### Fold 22\n",
      "#########################\n",
      "Fold 22 roc = 0.9779411764705883\n",
      "#########################\n",
      "### Fold 23\n",
      "#########################\n",
      "Fold 23 roc = 0.9519761029411764\n",
      "#########################\n",
      "### Fold 24\n",
      "#########################\n",
      "Fold 24 roc = 0.9630055147058824\n",
      "#########################\n",
      "### Fold 25\n",
      "#########################\n",
      "Fold 25 roc = 0.9735753676470589\n",
      "Overall CV roc = 0.9681066176470589\n"
     ]
    }
   ],
   "source": [
    "from sklearn.metrics import mean_squared_error\n",
    "import torch\n",
    "from sklearn.metrics import roc_auc_score, accuracy_score\n",
    "\n",
    "preds = []\n",
    "scores = []\n",
    "\n",
    "for fold in range(nfolds):\n",
    "    print('#'*25)\n",
    "    print('### Fold',fold+1)\n",
    "    print('#'*25)\n",
    "    train_ = train_df[train_df.fold!=fold]\n",
    "    val_ = train_df[train_df.fold==fold]\n",
    "    tr_text_feats = all_train_feats[list(train_.index),:]\n",
    "    val_text_feats = all_train_feats[list(val_.index),:]\n",
    "\n",
    "    clf = XGBClassifier()\n",
    "    clf.fit(tr_text_feats, train_[\"target\"].values)\n",
    "    val_preds = clf.predict(val_text_feats)\n",
    "    test_preds = clf.predict(all_test_feats)\n",
    "    labels = np.array(val_[\"target\"].values.tolist())\n",
    "    score = roc_auc_score(labels,val_preds)\n",
    "    print('Fold',fold+1,'roc =',score)\n",
    "    scores.append(score)\n",
    "\n",
    "    preds.append(test_preds)\n",
    "print('Overall CV roc =',np.mean(scores))"
   ]
  },
  {
   "cell_type": "code",
   "execution_count": 19,
   "id": "bf38b498",
   "metadata": {
    "execution": {
     "iopub.execute_input": "2022-11-19T17:11:16.744337Z",
     "iopub.status.busy": "2022-11-19T17:11:16.744066Z",
     "iopub.status.idle": "2022-11-19T17:11:16.764307Z",
     "shell.execute_reply": "2022-11-19T17:11:16.763459Z"
    },
    "papermill": {
     "duration": 0.036268,
     "end_time": "2022-11-19T17:11:16.766356",
     "exception": false,
     "start_time": "2022-11-19T17:11:16.730088",
     "status": "completed"
    },
    "tags": []
   },
   "outputs": [],
   "source": [
    "sub = test_df.copy()\n",
    "sub.loc[:,\"target\"] = np.average(np.array(preds),axis=0)"
   ]
  },
  {
   "cell_type": "code",
   "execution_count": 20,
   "id": "f4f3013c",
   "metadata": {
    "execution": {
     "iopub.execute_input": "2022-11-19T17:11:16.794917Z",
     "iopub.status.busy": "2022-11-19T17:11:16.794577Z",
     "iopub.status.idle": "2022-11-19T17:11:16.817503Z",
     "shell.execute_reply": "2022-11-19T17:11:16.816639Z"
    },
    "papermill": {
     "duration": 0.038814,
     "end_time": "2022-11-19T17:11:16.819630",
     "exception": false,
     "start_time": "2022-11-19T17:11:16.780816",
     "status": "completed"
    },
    "tags": []
   },
   "outputs": [
    {
     "data": {
      "text/html": [
       "<div>\n",
       "<style scoped>\n",
       "    .dataframe tbody tr th:only-of-type {\n",
       "        vertical-align: middle;\n",
       "    }\n",
       "\n",
       "    .dataframe tbody tr th {\n",
       "        vertical-align: top;\n",
       "    }\n",
       "\n",
       "    .dataframe thead th {\n",
       "        text-align: right;\n",
       "    }\n",
       "</style>\n",
       "<table border=\"1\" class=\"dataframe\">\n",
       "  <thead>\n",
       "    <tr style=\"text-align: right;\">\n",
       "      <th></th>\n",
       "      <th>id</th>\n",
       "      <th>target</th>\n",
       "    </tr>\n",
       "  </thead>\n",
       "  <tbody>\n",
       "    <tr>\n",
       "      <th>0</th>\n",
       "      <td>00054c878</td>\n",
       "      <td>0.0</td>\n",
       "    </tr>\n",
       "    <tr>\n",
       "      <th>1</th>\n",
       "      <td>0007285a3</td>\n",
       "      <td>1.0</td>\n",
       "    </tr>\n",
       "    <tr>\n",
       "      <th>2</th>\n",
       "      <td>00076c5a6</td>\n",
       "      <td>0.0</td>\n",
       "    </tr>\n",
       "    <tr>\n",
       "      <th>3</th>\n",
       "      <td>001349290</td>\n",
       "      <td>0.0</td>\n",
       "    </tr>\n",
       "    <tr>\n",
       "      <th>4</th>\n",
       "      <td>001a52e92</td>\n",
       "      <td>0.0</td>\n",
       "    </tr>\n",
       "  </tbody>\n",
       "</table>\n",
       "</div>"
      ],
      "text/plain": [
       "          id  target\n",
       "0  00054c878     0.0\n",
       "1  0007285a3     1.0\n",
       "2  00076c5a6     0.0\n",
       "3  001349290     0.0\n",
       "4  001a52e92     0.0"
      ]
     },
     "execution_count": 20,
     "metadata": {},
     "output_type": "execute_result"
    }
   ],
   "source": [
    "sub.to_csv(\"ml_submission.csv\",index=None)\n",
    "sub.head()"
   ]
  },
  {
   "cell_type": "code",
   "execution_count": null,
   "id": "ca0fcb18",
   "metadata": {},
   "outputs": [],
   "source": []
  }
 ],
 "metadata": {
  "kernelspec": {
   "display_name": "game",
   "language": "python",
   "name": "python3"
  },
  "language_info": {
   "codemirror_mode": {
    "name": "ipython",
    "version": 3
   },
   "file_extension": ".py",
   "mimetype": "text/x-python",
   "name": "python",
   "nbconvert_exporter": "python",
   "pygments_lexer": "ipython3",
   "version": "3.7.15 (default, Nov 24 2022, 21:12:53) \n[GCC 11.2.0]"
  },
  "papermill": {
   "default_parameters": {},
   "duration": 195.340652,
   "end_time": "2022-11-19T17:11:20.601434",
   "environment_variables": {},
   "exception": null,
   "input_path": "__notebook__.ipynb",
   "output_path": "__notebook__.ipynb",
   "parameters": {},
   "start_time": "2022-11-19T17:08:05.260782",
   "version": "2.3.4"
  },
  "vscode": {
   "interpreter": {
    "hash": "eb318c74a536197717970ae3edffa0db7bc1903ca4159e7b7bb36635a2d80788"
   }
  }
 },
 "nbformat": 4,
 "nbformat_minor": 5
}
