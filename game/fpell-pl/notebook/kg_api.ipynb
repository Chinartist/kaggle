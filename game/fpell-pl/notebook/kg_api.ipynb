{
 "cells": [
  {
   "cell_type": "code",
   "execution_count": 5,
   "metadata": {},
   "outputs": [
    {
     "name": "stdout",
     "output_type": "stream",
     "text": [
      "Warning: Your Kaggle API key is readable by other users on this system! To fix this, you can run 'chmod 600 /home/wangjingqi/.kaggle/kaggle.json'\n",
      "Data package template written to: /home/wangjingqi/input/ck/fpell/deberta-v3-base_BL-0.2-2-1-1-1-480-2021/dataset-metadata.json\n"
     ]
    }
   ],
   "source": [
    "! kaggle datasets init -p /home/wangjingqi/input/ck/fpell/deberta-v3-base_BL-0.2-2-1-1-1-480-2021"
   ]
  },
  {
   "cell_type": "code",
   "execution_count": 2,
   "metadata": {},
   "outputs": [
    {
     "name": "stdout",
     "output_type": "stream",
     "text": [
      "Warning: Your Kaggle API key is readable by other users on this system! To fix this, you can run 'chmod 600 /home/wangjingqi/.kaggle/kaggle.json'\n",
      "Starting upload for file deberta-v3-base_BL-0.2-2-1-1-1-480-2021_0.ckpt\n",
      "  0%|                                                | 0.00/704M [00:00<?, ?B/s]"
     ]
    }
   ],
   "source": [
    "! kaggle datasets create -p /home/wangjingqi/input/ck/fpell/deberta-v3-base_BL-0.2-2-1-1-1-480-2021"
   ]
  },
  {
   "cell_type": "code",
   "execution_count": 7,
   "metadata": {},
   "outputs": [
    {
     "name": "stdout",
     "output_type": "stream",
     "text": [
      "Warning: Your Kaggle API key is readable by other users on this system! To fix this, you can run 'chmod 600 /home/wangjingqi/.kaggle/kaggle.json'\n",
      "Starting upload for file deberta-v3-base_BL-0.2-2-1-1-1-480-2021_0.ckpt\n",
      "  0%|                                                | 0.00/704M [00:00<?, ?B/s]"
     ]
    }
   ],
   "source": [
    "! kaggle datasets version -p /home/wangjingqi/input/ck/fpell/deberta-v3-base_BL-0.2-2-1-1-1-480-2021 -m \"Updated data\" "
   ]
  }
 ],
 "metadata": {
  "kernelspec": {
   "display_name": "Python 3.8.13 ('game': conda)",
   "language": "python",
   "name": "python3"
  },
  "language_info": {
   "codemirror_mode": {
    "name": "ipython",
    "version": 3
   },
   "file_extension": ".py",
   "mimetype": "text/x-python",
   "name": "python",
   "nbconvert_exporter": "python",
   "pygments_lexer": "ipython3",
   "version": "3.8.13"
  },
  "orig_nbformat": 4,
  "vscode": {
   "interpreter": {
    "hash": "9cd4817dc6c5c8851b0d2b0917103f420c02e169bb3e664c040bdb378fb18d97"
   }
  }
 },
 "nbformat": 4,
 "nbformat_minor": 2
}
