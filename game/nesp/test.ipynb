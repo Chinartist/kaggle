{
 "cells": [
  {
   "cell_type": "code",
   "execution_count": 2,
   "metadata": {},
   "outputs": [
    {
     "data": {
      "text/plain": [
       "tensor([[[ 0.0944, -0.8411, -0.8205,  0.5996],\n",
       "         [ 0.1807, -2.0585,  1.7893, -0.4119],\n",
       "         [ 1.0201, -0.5517, -0.1740,  0.1535]],\n",
       "\n",
       "        [[ 0.2008,  0.3388, -0.9598, -0.4192],\n",
       "         [ 1.1305, -0.2445, -0.9994,  1.0016],\n",
       "         [ 0.6535,  0.3173,  0.0923,  0.8765]]])"
      ]
     },
     "execution_count": 2,
     "metadata": {},
     "output_type": "execute_result"
    }
   ],
   "source": [
    "import torch\n",
    "a = torch.randn((2,3,4))\n",
    "a"
   ]
  },
  {
   "cell_type": "code",
   "execution_count": 8,
   "metadata": {},
   "outputs": [
    {
     "data": {
      "text/plain": [
       "tensor([[0, 1, 2],\n",
       "        [0, 2, 0],\n",
       "        [1, 1, 0],\n",
       "        [1, 1, 3]])"
      ]
     },
     "execution_count": 8,
     "metadata": {},
     "output_type": "execute_result"
    }
   ],
   "source": [
    "(a>1).nonzero()"
   ]
  },
  {
   "cell_type": "code",
   "execution_count": 17,
   "metadata": {},
   "outputs": [
    {
     "data": {
      "text/plain": [
       "tensor([[0, 5],\n",
       "        [1, 5],\n",
       "        [2, 5]])"
      ]
     },
     "execution_count": 17,
     "metadata": {},
     "output_type": "execute_result"
    }
   ],
   "source": [
    "a = torch.tensor([[0,0,0,0,0,1,0,0,0,0,],[0,0,0,0,0,1,0,0,0,0,],[0,0,0,0,0,1,0,0,0,0,]])\n",
    "m = (a==1).nonzero()\n",
    "m"
   ]
  },
  {
   "cell_type": "code",
   "execution_count": null,
   "metadata": {},
   "outputs": [],
   "source": [
    "from torch.nn import functional as F"
   ]
  },
  {
   "cell_type": "code",
   "execution_count": 19,
   "metadata": {},
   "outputs": [
    {
     "name": "stdout",
     "output_type": "stream",
     "text": [
      "tensor(5)\n",
      "tensor(5)\n",
      "tensor(5)\n"
     ]
    }
   ],
   "source": [
    "for i in m:\n",
    "    print(i[-1])\n",
    "    s = F.relu(i-16)\n",
    "    e = i+16\n",
    "    "
   ]
  },
  {
   "cell_type": "code",
   "execution_count": null,
   "metadata": {},
   "outputs": [],
   "source": []
  }
 ],
 "metadata": {
  "kernelspec": {
   "display_name": "Python 3.8.13 ('game': conda)",
   "language": "python",
   "name": "python3"
  },
  "language_info": {
   "codemirror_mode": {
    "name": "ipython",
    "version": 3
   },
   "file_extension": ".py",
   "mimetype": "text/x-python",
   "name": "python",
   "nbconvert_exporter": "python",
   "pygments_lexer": "ipython3",
   "version": "3.8.13"
  },
  "orig_nbformat": 4,
  "vscode": {
   "interpreter": {
    "hash": "9cd4817dc6c5c8851b0d2b0917103f420c02e169bb3e664c040bdb378fb18d97"
   }
  }
 },
 "nbformat": 4,
 "nbformat_minor": 2
}
